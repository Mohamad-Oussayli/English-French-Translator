{
  "cells": [
    {
      "cell_type": "markdown",
      "source": [
        "# Machine Translation Project: English to French\n",
        "\n",
        "## Introduction\n",
        "\n",
        "This project leverages **Natural Language Processing (NLP)** techniques to build a machine translation model capable of translating text from English to French. Machine translation is a critical application of NLP, bridging communication gaps across languages by automating the translation process.\n",
        "\n",
        "The model is trained on a parallel English-French dataset, utilizing sequence-to-sequence architecture with recurrent neural networks (RNNs). The goal is to achieve high-quality translations that capture both the syntax and semantics of the original text.\n",
        "\n",
        "### Key Objectives:\n",
        "1. Understand the fundamentals of machine translation and sequence learning.\n",
        "2. Preprocess and tokenize datasets for bilingual translation tasks.\n",
        "3. Build and evaluate a machine translation model.\n",
        "\n",
        "This project demonstrates the practical implementation of NLP for solving real-world language translation challenges.\n"
      ],
      "metadata": {
        "id": "Kq5gy_kZLWBD"
      }
    },
    {
      "cell_type": "code",
      "execution_count": null,
      "metadata": {
        "id": "n0IARXAX1e1m"
      },
      "outputs": [],
      "source": [
        "import pandas as pd  # For data manipulation and analysis\n",
        "import numpy as np  # For numerical computations\n",
        "import random  # For generating random values (for sampling a random index)\n",
        "import string  # For working with strings (removing punctuation)\n",
        "import matplotlib.pyplot as plt  # For creating visualizations\n",
        "\n",
        "import nltk  # Natural Language Toolkit for NLP tasks\n",
        "from nltk.tokenize import word_tokenize  # Tokenize text into individual words\n",
        "\n",
        "from tensorflow.keras.preprocessing.text import Tokenizer  # For converting text to sequences of integers\n",
        "from tensorflow.keras.preprocessing.sequence import pad_sequences  # For padding sequences to uniform lengths\n",
        "from tensorflow.keras.models import Sequential  # For building a sequential neural network\n",
        "from tensorflow.keras.layers import Embedding, LSTM, RepeatVector, TimeDistributed, Dense  # Layers for the model\n",
        "from tensorflow.keras.optimizers import Adam  # Optimizer for training the model\n",
        "from tensorflow.keras.layers import Bidirectional  # For creating a bidirectional LSTM layer"
      ]
    },
    {
      "cell_type": "code",
      "execution_count": null,
      "metadata": {
        "id": "kFj8gkP01lGT",
        "colab": {
          "base_uri": "https://localhost:8080/",
          "height": 112
        },
        "outputId": "5f2549df-1f72-4907-9327-8466a36daf06"
      },
      "outputs": [
        {
          "output_type": "execute_result",
          "data": {
            "text/plain": [
              "  new jersey is sometimes quiet during autumn , and it is snowy in april .\n",
              "0  the united states is usually chilly during jul...                      \n",
              "1  california is usually quiet during march , and...                      "
            ],
            "text/html": [
              "\n",
              "  <div id=\"df-d7b6115a-aaec-4204-a0e2-69876eadb0a9\" class=\"colab-df-container\">\n",
              "    <div>\n",
              "<style scoped>\n",
              "    .dataframe tbody tr th:only-of-type {\n",
              "        vertical-align: middle;\n",
              "    }\n",
              "\n",
              "    .dataframe tbody tr th {\n",
              "        vertical-align: top;\n",
              "    }\n",
              "\n",
              "    .dataframe thead th {\n",
              "        text-align: right;\n",
              "    }\n",
              "</style>\n",
              "<table border=\"1\" class=\"dataframe\">\n",
              "  <thead>\n",
              "    <tr style=\"text-align: right;\">\n",
              "      <th></th>\n",
              "      <th>new jersey is sometimes quiet during autumn , and it is snowy in april .</th>\n",
              "    </tr>\n",
              "  </thead>\n",
              "  <tbody>\n",
              "    <tr>\n",
              "      <th>0</th>\n",
              "      <td>the united states is usually chilly during jul...</td>\n",
              "    </tr>\n",
              "    <tr>\n",
              "      <th>1</th>\n",
              "      <td>california is usually quiet during march , and...</td>\n",
              "    </tr>\n",
              "  </tbody>\n",
              "</table>\n",
              "</div>\n",
              "    <div class=\"colab-df-buttons\">\n",
              "\n",
              "  <div class=\"colab-df-container\">\n",
              "    <button class=\"colab-df-convert\" onclick=\"convertToInteractive('df-d7b6115a-aaec-4204-a0e2-69876eadb0a9')\"\n",
              "            title=\"Convert this dataframe to an interactive table.\"\n",
              "            style=\"display:none;\">\n",
              "\n",
              "  <svg xmlns=\"http://www.w3.org/2000/svg\" height=\"24px\" viewBox=\"0 -960 960 960\">\n",
              "    <path d=\"M120-120v-720h720v720H120Zm60-500h600v-160H180v160Zm220 220h160v-160H400v160Zm0 220h160v-160H400v160ZM180-400h160v-160H180v160Zm440 0h160v-160H620v160ZM180-180h160v-160H180v160Zm440 0h160v-160H620v160Z\"/>\n",
              "  </svg>\n",
              "    </button>\n",
              "\n",
              "  <style>\n",
              "    .colab-df-container {\n",
              "      display:flex;\n",
              "      gap: 12px;\n",
              "    }\n",
              "\n",
              "    .colab-df-convert {\n",
              "      background-color: #E8F0FE;\n",
              "      border: none;\n",
              "      border-radius: 50%;\n",
              "      cursor: pointer;\n",
              "      display: none;\n",
              "      fill: #1967D2;\n",
              "      height: 32px;\n",
              "      padding: 0 0 0 0;\n",
              "      width: 32px;\n",
              "    }\n",
              "\n",
              "    .colab-df-convert:hover {\n",
              "      background-color: #E2EBFA;\n",
              "      box-shadow: 0px 1px 2px rgba(60, 64, 67, 0.3), 0px 1px 3px 1px rgba(60, 64, 67, 0.15);\n",
              "      fill: #174EA6;\n",
              "    }\n",
              "\n",
              "    .colab-df-buttons div {\n",
              "      margin-bottom: 4px;\n",
              "    }\n",
              "\n",
              "    [theme=dark] .colab-df-convert {\n",
              "      background-color: #3B4455;\n",
              "      fill: #D2E3FC;\n",
              "    }\n",
              "\n",
              "    [theme=dark] .colab-df-convert:hover {\n",
              "      background-color: #434B5C;\n",
              "      box-shadow: 0px 1px 3px 1px rgba(0, 0, 0, 0.15);\n",
              "      filter: drop-shadow(0px 1px 2px rgba(0, 0, 0, 0.3));\n",
              "      fill: #FFFFFF;\n",
              "    }\n",
              "  </style>\n",
              "\n",
              "    <script>\n",
              "      const buttonEl =\n",
              "        document.querySelector('#df-d7b6115a-aaec-4204-a0e2-69876eadb0a9 button.colab-df-convert');\n",
              "      buttonEl.style.display =\n",
              "        google.colab.kernel.accessAllowed ? 'block' : 'none';\n",
              "\n",
              "      async function convertToInteractive(key) {\n",
              "        const element = document.querySelector('#df-d7b6115a-aaec-4204-a0e2-69876eadb0a9');\n",
              "        const dataTable =\n",
              "          await google.colab.kernel.invokeFunction('convertToInteractive',\n",
              "                                                    [key], {});\n",
              "        if (!dataTable) return;\n",
              "\n",
              "        const docLinkHtml = 'Like what you see? Visit the ' +\n",
              "          '<a target=\"_blank\" href=https://colab.research.google.com/notebooks/data_table.ipynb>data table notebook</a>'\n",
              "          + ' to learn more about interactive tables.';\n",
              "        element.innerHTML = '';\n",
              "        dataTable['output_type'] = 'display_data';\n",
              "        await google.colab.output.renderOutput(dataTable, element);\n",
              "        const docLink = document.createElement('div');\n",
              "        docLink.innerHTML = docLinkHtml;\n",
              "        element.appendChild(docLink);\n",
              "      }\n",
              "    </script>\n",
              "  </div>\n",
              "\n",
              "\n",
              "<div id=\"df-9e3a9f57-368f-455c-ba05-0a148bfaff2a\">\n",
              "  <button class=\"colab-df-quickchart\" onclick=\"quickchart('df-9e3a9f57-368f-455c-ba05-0a148bfaff2a')\"\n",
              "            title=\"Suggest charts\"\n",
              "            style=\"display:none;\">\n",
              "\n",
              "<svg xmlns=\"http://www.w3.org/2000/svg\" height=\"24px\"viewBox=\"0 0 24 24\"\n",
              "     width=\"24px\">\n",
              "    <g>\n",
              "        <path d=\"M19 3H5c-1.1 0-2 .9-2 2v14c0 1.1.9 2 2 2h14c1.1 0 2-.9 2-2V5c0-1.1-.9-2-2-2zM9 17H7v-7h2v7zm4 0h-2V7h2v10zm4 0h-2v-4h2v4z\"/>\n",
              "    </g>\n",
              "</svg>\n",
              "  </button>\n",
              "\n",
              "<style>\n",
              "  .colab-df-quickchart {\n",
              "      --bg-color: #E8F0FE;\n",
              "      --fill-color: #1967D2;\n",
              "      --hover-bg-color: #E2EBFA;\n",
              "      --hover-fill-color: #174EA6;\n",
              "      --disabled-fill-color: #AAA;\n",
              "      --disabled-bg-color: #DDD;\n",
              "  }\n",
              "\n",
              "  [theme=dark] .colab-df-quickchart {\n",
              "      --bg-color: #3B4455;\n",
              "      --fill-color: #D2E3FC;\n",
              "      --hover-bg-color: #434B5C;\n",
              "      --hover-fill-color: #FFFFFF;\n",
              "      --disabled-bg-color: #3B4455;\n",
              "      --disabled-fill-color: #666;\n",
              "  }\n",
              "\n",
              "  .colab-df-quickchart {\n",
              "    background-color: var(--bg-color);\n",
              "    border: none;\n",
              "    border-radius: 50%;\n",
              "    cursor: pointer;\n",
              "    display: none;\n",
              "    fill: var(--fill-color);\n",
              "    height: 32px;\n",
              "    padding: 0;\n",
              "    width: 32px;\n",
              "  }\n",
              "\n",
              "  .colab-df-quickchart:hover {\n",
              "    background-color: var(--hover-bg-color);\n",
              "    box-shadow: 0 1px 2px rgba(60, 64, 67, 0.3), 0 1px 3px 1px rgba(60, 64, 67, 0.15);\n",
              "    fill: var(--button-hover-fill-color);\n",
              "  }\n",
              "\n",
              "  .colab-df-quickchart-complete:disabled,\n",
              "  .colab-df-quickchart-complete:disabled:hover {\n",
              "    background-color: var(--disabled-bg-color);\n",
              "    fill: var(--disabled-fill-color);\n",
              "    box-shadow: none;\n",
              "  }\n",
              "\n",
              "  .colab-df-spinner {\n",
              "    border: 2px solid var(--fill-color);\n",
              "    border-color: transparent;\n",
              "    border-bottom-color: var(--fill-color);\n",
              "    animation:\n",
              "      spin 1s steps(1) infinite;\n",
              "  }\n",
              "\n",
              "  @keyframes spin {\n",
              "    0% {\n",
              "      border-color: transparent;\n",
              "      border-bottom-color: var(--fill-color);\n",
              "      border-left-color: var(--fill-color);\n",
              "    }\n",
              "    20% {\n",
              "      border-color: transparent;\n",
              "      border-left-color: var(--fill-color);\n",
              "      border-top-color: var(--fill-color);\n",
              "    }\n",
              "    30% {\n",
              "      border-color: transparent;\n",
              "      border-left-color: var(--fill-color);\n",
              "      border-top-color: var(--fill-color);\n",
              "      border-right-color: var(--fill-color);\n",
              "    }\n",
              "    40% {\n",
              "      border-color: transparent;\n",
              "      border-right-color: var(--fill-color);\n",
              "      border-top-color: var(--fill-color);\n",
              "    }\n",
              "    60% {\n",
              "      border-color: transparent;\n",
              "      border-right-color: var(--fill-color);\n",
              "    }\n",
              "    80% {\n",
              "      border-color: transparent;\n",
              "      border-right-color: var(--fill-color);\n",
              "      border-bottom-color: var(--fill-color);\n",
              "    }\n",
              "    90% {\n",
              "      border-color: transparent;\n",
              "      border-bottom-color: var(--fill-color);\n",
              "    }\n",
              "  }\n",
              "</style>\n",
              "\n",
              "  <script>\n",
              "    async function quickchart(key) {\n",
              "      const quickchartButtonEl =\n",
              "        document.querySelector('#' + key + ' button');\n",
              "      quickchartButtonEl.disabled = true;  // To prevent multiple clicks.\n",
              "      quickchartButtonEl.classList.add('colab-df-spinner');\n",
              "      try {\n",
              "        const charts = await google.colab.kernel.invokeFunction(\n",
              "            'suggestCharts', [key], {});\n",
              "      } catch (error) {\n",
              "        console.error('Error during call to suggestCharts:', error);\n",
              "      }\n",
              "      quickchartButtonEl.classList.remove('colab-df-spinner');\n",
              "      quickchartButtonEl.classList.add('colab-df-quickchart-complete');\n",
              "    }\n",
              "    (() => {\n",
              "      let quickchartButtonEl =\n",
              "        document.querySelector('#df-9e3a9f57-368f-455c-ba05-0a148bfaff2a button');\n",
              "      quickchartButtonEl.style.display =\n",
              "        google.colab.kernel.accessAllowed ? 'block' : 'none';\n",
              "    })();\n",
              "  </script>\n",
              "</div>\n",
              "\n",
              "    </div>\n",
              "  </div>\n"
            ],
            "application/vnd.google.colaboratory.intrinsic+json": {
              "type": "dataframe",
              "variable_name": "english"
            }
          },
          "metadata": {},
          "execution_count": 3
        }
      ],
      "source": [
        "english = pd.read_csv(\"en.csv\")\n",
        "english.head(2)"
      ]
    },
    {
      "cell_type": "code",
      "execution_count": null,
      "metadata": {
        "id": "P4A7ZKt32A7s",
        "colab": {
          "base_uri": "https://localhost:8080/",
          "height": 112
        },
        "outputId": "f8a43033-e453-474c-aae2-30405853688a"
      },
      "outputs": [
        {
          "output_type": "execute_result",
          "data": {
            "text/plain": [
              "  new jersey est parfois calme pendant l' automne , et il est neigeux en avril .\n",
              "0  les états-unis est généralement froid en juill...                            \n",
              "1  california est généralement calme en mars , et...                            "
            ],
            "text/html": [
              "\n",
              "  <div id=\"df-fd4a3b77-5806-47fd-94cc-37813d022ad5\" class=\"colab-df-container\">\n",
              "    <div>\n",
              "<style scoped>\n",
              "    .dataframe tbody tr th:only-of-type {\n",
              "        vertical-align: middle;\n",
              "    }\n",
              "\n",
              "    .dataframe tbody tr th {\n",
              "        vertical-align: top;\n",
              "    }\n",
              "\n",
              "    .dataframe thead th {\n",
              "        text-align: right;\n",
              "    }\n",
              "</style>\n",
              "<table border=\"1\" class=\"dataframe\">\n",
              "  <thead>\n",
              "    <tr style=\"text-align: right;\">\n",
              "      <th></th>\n",
              "      <th>new jersey est parfois calme pendant l' automne , et il est neigeux en avril .</th>\n",
              "    </tr>\n",
              "  </thead>\n",
              "  <tbody>\n",
              "    <tr>\n",
              "      <th>0</th>\n",
              "      <td>les états-unis est généralement froid en juill...</td>\n",
              "    </tr>\n",
              "    <tr>\n",
              "      <th>1</th>\n",
              "      <td>california est généralement calme en mars , et...</td>\n",
              "    </tr>\n",
              "  </tbody>\n",
              "</table>\n",
              "</div>\n",
              "    <div class=\"colab-df-buttons\">\n",
              "\n",
              "  <div class=\"colab-df-container\">\n",
              "    <button class=\"colab-df-convert\" onclick=\"convertToInteractive('df-fd4a3b77-5806-47fd-94cc-37813d022ad5')\"\n",
              "            title=\"Convert this dataframe to an interactive table.\"\n",
              "            style=\"display:none;\">\n",
              "\n",
              "  <svg xmlns=\"http://www.w3.org/2000/svg\" height=\"24px\" viewBox=\"0 -960 960 960\">\n",
              "    <path d=\"M120-120v-720h720v720H120Zm60-500h600v-160H180v160Zm220 220h160v-160H400v160Zm0 220h160v-160H400v160ZM180-400h160v-160H180v160Zm440 0h160v-160H620v160ZM180-180h160v-160H180v160Zm440 0h160v-160H620v160Z\"/>\n",
              "  </svg>\n",
              "    </button>\n",
              "\n",
              "  <style>\n",
              "    .colab-df-container {\n",
              "      display:flex;\n",
              "      gap: 12px;\n",
              "    }\n",
              "\n",
              "    .colab-df-convert {\n",
              "      background-color: #E8F0FE;\n",
              "      border: none;\n",
              "      border-radius: 50%;\n",
              "      cursor: pointer;\n",
              "      display: none;\n",
              "      fill: #1967D2;\n",
              "      height: 32px;\n",
              "      padding: 0 0 0 0;\n",
              "      width: 32px;\n",
              "    }\n",
              "\n",
              "    .colab-df-convert:hover {\n",
              "      background-color: #E2EBFA;\n",
              "      box-shadow: 0px 1px 2px rgba(60, 64, 67, 0.3), 0px 1px 3px 1px rgba(60, 64, 67, 0.15);\n",
              "      fill: #174EA6;\n",
              "    }\n",
              "\n",
              "    .colab-df-buttons div {\n",
              "      margin-bottom: 4px;\n",
              "    }\n",
              "\n",
              "    [theme=dark] .colab-df-convert {\n",
              "      background-color: #3B4455;\n",
              "      fill: #D2E3FC;\n",
              "    }\n",
              "\n",
              "    [theme=dark] .colab-df-convert:hover {\n",
              "      background-color: #434B5C;\n",
              "      box-shadow: 0px 1px 3px 1px rgba(0, 0, 0, 0.15);\n",
              "      filter: drop-shadow(0px 1px 2px rgba(0, 0, 0, 0.3));\n",
              "      fill: #FFFFFF;\n",
              "    }\n",
              "  </style>\n",
              "\n",
              "    <script>\n",
              "      const buttonEl =\n",
              "        document.querySelector('#df-fd4a3b77-5806-47fd-94cc-37813d022ad5 button.colab-df-convert');\n",
              "      buttonEl.style.display =\n",
              "        google.colab.kernel.accessAllowed ? 'block' : 'none';\n",
              "\n",
              "      async function convertToInteractive(key) {\n",
              "        const element = document.querySelector('#df-fd4a3b77-5806-47fd-94cc-37813d022ad5');\n",
              "        const dataTable =\n",
              "          await google.colab.kernel.invokeFunction('convertToInteractive',\n",
              "                                                    [key], {});\n",
              "        if (!dataTable) return;\n",
              "\n",
              "        const docLinkHtml = 'Like what you see? Visit the ' +\n",
              "          '<a target=\"_blank\" href=https://colab.research.google.com/notebooks/data_table.ipynb>data table notebook</a>'\n",
              "          + ' to learn more about interactive tables.';\n",
              "        element.innerHTML = '';\n",
              "        dataTable['output_type'] = 'display_data';\n",
              "        await google.colab.output.renderOutput(dataTable, element);\n",
              "        const docLink = document.createElement('div');\n",
              "        docLink.innerHTML = docLinkHtml;\n",
              "        element.appendChild(docLink);\n",
              "      }\n",
              "    </script>\n",
              "  </div>\n",
              "\n",
              "\n",
              "<div id=\"df-5cbb6cdb-a6e9-457b-8cae-dc6329ece287\">\n",
              "  <button class=\"colab-df-quickchart\" onclick=\"quickchart('df-5cbb6cdb-a6e9-457b-8cae-dc6329ece287')\"\n",
              "            title=\"Suggest charts\"\n",
              "            style=\"display:none;\">\n",
              "\n",
              "<svg xmlns=\"http://www.w3.org/2000/svg\" height=\"24px\"viewBox=\"0 0 24 24\"\n",
              "     width=\"24px\">\n",
              "    <g>\n",
              "        <path d=\"M19 3H5c-1.1 0-2 .9-2 2v14c0 1.1.9 2 2 2h14c1.1 0 2-.9 2-2V5c0-1.1-.9-2-2-2zM9 17H7v-7h2v7zm4 0h-2V7h2v10zm4 0h-2v-4h2v4z\"/>\n",
              "    </g>\n",
              "</svg>\n",
              "  </button>\n",
              "\n",
              "<style>\n",
              "  .colab-df-quickchart {\n",
              "      --bg-color: #E8F0FE;\n",
              "      --fill-color: #1967D2;\n",
              "      --hover-bg-color: #E2EBFA;\n",
              "      --hover-fill-color: #174EA6;\n",
              "      --disabled-fill-color: #AAA;\n",
              "      --disabled-bg-color: #DDD;\n",
              "  }\n",
              "\n",
              "  [theme=dark] .colab-df-quickchart {\n",
              "      --bg-color: #3B4455;\n",
              "      --fill-color: #D2E3FC;\n",
              "      --hover-bg-color: #434B5C;\n",
              "      --hover-fill-color: #FFFFFF;\n",
              "      --disabled-bg-color: #3B4455;\n",
              "      --disabled-fill-color: #666;\n",
              "  }\n",
              "\n",
              "  .colab-df-quickchart {\n",
              "    background-color: var(--bg-color);\n",
              "    border: none;\n",
              "    border-radius: 50%;\n",
              "    cursor: pointer;\n",
              "    display: none;\n",
              "    fill: var(--fill-color);\n",
              "    height: 32px;\n",
              "    padding: 0;\n",
              "    width: 32px;\n",
              "  }\n",
              "\n",
              "  .colab-df-quickchart:hover {\n",
              "    background-color: var(--hover-bg-color);\n",
              "    box-shadow: 0 1px 2px rgba(60, 64, 67, 0.3), 0 1px 3px 1px rgba(60, 64, 67, 0.15);\n",
              "    fill: var(--button-hover-fill-color);\n",
              "  }\n",
              "\n",
              "  .colab-df-quickchart-complete:disabled,\n",
              "  .colab-df-quickchart-complete:disabled:hover {\n",
              "    background-color: var(--disabled-bg-color);\n",
              "    fill: var(--disabled-fill-color);\n",
              "    box-shadow: none;\n",
              "  }\n",
              "\n",
              "  .colab-df-spinner {\n",
              "    border: 2px solid var(--fill-color);\n",
              "    border-color: transparent;\n",
              "    border-bottom-color: var(--fill-color);\n",
              "    animation:\n",
              "      spin 1s steps(1) infinite;\n",
              "  }\n",
              "\n",
              "  @keyframes spin {\n",
              "    0% {\n",
              "      border-color: transparent;\n",
              "      border-bottom-color: var(--fill-color);\n",
              "      border-left-color: var(--fill-color);\n",
              "    }\n",
              "    20% {\n",
              "      border-color: transparent;\n",
              "      border-left-color: var(--fill-color);\n",
              "      border-top-color: var(--fill-color);\n",
              "    }\n",
              "    30% {\n",
              "      border-color: transparent;\n",
              "      border-left-color: var(--fill-color);\n",
              "      border-top-color: var(--fill-color);\n",
              "      border-right-color: var(--fill-color);\n",
              "    }\n",
              "    40% {\n",
              "      border-color: transparent;\n",
              "      border-right-color: var(--fill-color);\n",
              "      border-top-color: var(--fill-color);\n",
              "    }\n",
              "    60% {\n",
              "      border-color: transparent;\n",
              "      border-right-color: var(--fill-color);\n",
              "    }\n",
              "    80% {\n",
              "      border-color: transparent;\n",
              "      border-right-color: var(--fill-color);\n",
              "      border-bottom-color: var(--fill-color);\n",
              "    }\n",
              "    90% {\n",
              "      border-color: transparent;\n",
              "      border-bottom-color: var(--fill-color);\n",
              "    }\n",
              "  }\n",
              "</style>\n",
              "\n",
              "  <script>\n",
              "    async function quickchart(key) {\n",
              "      const quickchartButtonEl =\n",
              "        document.querySelector('#' + key + ' button');\n",
              "      quickchartButtonEl.disabled = true;  // To prevent multiple clicks.\n",
              "      quickchartButtonEl.classList.add('colab-df-spinner');\n",
              "      try {\n",
              "        const charts = await google.colab.kernel.invokeFunction(\n",
              "            'suggestCharts', [key], {});\n",
              "      } catch (error) {\n",
              "        console.error('Error during call to suggestCharts:', error);\n",
              "      }\n",
              "      quickchartButtonEl.classList.remove('colab-df-spinner');\n",
              "      quickchartButtonEl.classList.add('colab-df-quickchart-complete');\n",
              "    }\n",
              "    (() => {\n",
              "      let quickchartButtonEl =\n",
              "        document.querySelector('#df-5cbb6cdb-a6e9-457b-8cae-dc6329ece287 button');\n",
              "      quickchartButtonEl.style.display =\n",
              "        google.colab.kernel.accessAllowed ? 'block' : 'none';\n",
              "    })();\n",
              "  </script>\n",
              "</div>\n",
              "\n",
              "    </div>\n",
              "  </div>\n"
            ],
            "application/vnd.google.colaboratory.intrinsic+json": {
              "type": "dataframe",
              "variable_name": "french"
            }
          },
          "metadata": {},
          "execution_count": 4
        }
      ],
      "source": [
        "french = pd.read_csv(\"fr.csv\")\n",
        "french.head(2)"
      ]
    },
    {
      "cell_type": "code",
      "execution_count": null,
      "metadata": {
        "id": "XhWJP-b02HKq",
        "colab": {
          "base_uri": "https://localhost:8080/"
        },
        "outputId": "2a8f2231-5425-4d70-baca-1716c136e245"
      },
      "outputs": [
        {
          "output_type": "stream",
          "name": "stdout",
          "text": [
            "The English file has 137859 English sentences\n",
            "The French file has 137859 French sentences\n"
          ]
        }
      ],
      "source": [
        "print(f\"The English file has {len(english)} English sentences\")\n",
        "print(f\"The French file has {len(french)} French sentences\")"
      ]
    },
    {
      "cell_type": "markdown",
      "source": [
        "**Both files have 137,859 sentences, where each English sentence matches its French translation. This makes the dataset ideal for training a machine translation model.**"
      ],
      "metadata": {
        "id": "n76C2T3OL6b9"
      }
    },
    {
      "cell_type": "code",
      "execution_count": null,
      "metadata": {
        "id": "-ZXxahsB2njn",
        "colab": {
          "base_uri": "https://localhost:8080/",
          "height": 112
        },
        "outputId": "857bd28e-0394-4c5d-a899-95cd48b44708"
      },
      "outputs": [
        {
          "output_type": "execute_result",
          "data": {
            "text/plain": [
              "  new jersey is sometimes quiet during autumn , and it is snowy in april .  \\\n",
              "0  the united states is usually chilly during jul...                         \n",
              "1  california is usually quiet during march , and...                         \n",
              "\n",
              "  new jersey est parfois calme pendant l' automne , et il est neigeux en avril .  \n",
              "0  les états-unis est généralement froid en juill...                              \n",
              "1  california est généralement calme en mars , et...                              "
            ],
            "text/html": [
              "\n",
              "  <div id=\"df-44842672-98ad-45e7-9265-35c2348a85c7\" class=\"colab-df-container\">\n",
              "    <div>\n",
              "<style scoped>\n",
              "    .dataframe tbody tr th:only-of-type {\n",
              "        vertical-align: middle;\n",
              "    }\n",
              "\n",
              "    .dataframe tbody tr th {\n",
              "        vertical-align: top;\n",
              "    }\n",
              "\n",
              "    .dataframe thead th {\n",
              "        text-align: right;\n",
              "    }\n",
              "</style>\n",
              "<table border=\"1\" class=\"dataframe\">\n",
              "  <thead>\n",
              "    <tr style=\"text-align: right;\">\n",
              "      <th></th>\n",
              "      <th>new jersey is sometimes quiet during autumn , and it is snowy in april .</th>\n",
              "      <th>new jersey est parfois calme pendant l' automne , et il est neigeux en avril .</th>\n",
              "    </tr>\n",
              "  </thead>\n",
              "  <tbody>\n",
              "    <tr>\n",
              "      <th>0</th>\n",
              "      <td>the united states is usually chilly during jul...</td>\n",
              "      <td>les états-unis est généralement froid en juill...</td>\n",
              "    </tr>\n",
              "    <tr>\n",
              "      <th>1</th>\n",
              "      <td>california is usually quiet during march , and...</td>\n",
              "      <td>california est généralement calme en mars , et...</td>\n",
              "    </tr>\n",
              "  </tbody>\n",
              "</table>\n",
              "</div>\n",
              "    <div class=\"colab-df-buttons\">\n",
              "\n",
              "  <div class=\"colab-df-container\">\n",
              "    <button class=\"colab-df-convert\" onclick=\"convertToInteractive('df-44842672-98ad-45e7-9265-35c2348a85c7')\"\n",
              "            title=\"Convert this dataframe to an interactive table.\"\n",
              "            style=\"display:none;\">\n",
              "\n",
              "  <svg xmlns=\"http://www.w3.org/2000/svg\" height=\"24px\" viewBox=\"0 -960 960 960\">\n",
              "    <path d=\"M120-120v-720h720v720H120Zm60-500h600v-160H180v160Zm220 220h160v-160H400v160Zm0 220h160v-160H400v160ZM180-400h160v-160H180v160Zm440 0h160v-160H620v160ZM180-180h160v-160H180v160Zm440 0h160v-160H620v160Z\"/>\n",
              "  </svg>\n",
              "    </button>\n",
              "\n",
              "  <style>\n",
              "    .colab-df-container {\n",
              "      display:flex;\n",
              "      gap: 12px;\n",
              "    }\n",
              "\n",
              "    .colab-df-convert {\n",
              "      background-color: #E8F0FE;\n",
              "      border: none;\n",
              "      border-radius: 50%;\n",
              "      cursor: pointer;\n",
              "      display: none;\n",
              "      fill: #1967D2;\n",
              "      height: 32px;\n",
              "      padding: 0 0 0 0;\n",
              "      width: 32px;\n",
              "    }\n",
              "\n",
              "    .colab-df-convert:hover {\n",
              "      background-color: #E2EBFA;\n",
              "      box-shadow: 0px 1px 2px rgba(60, 64, 67, 0.3), 0px 1px 3px 1px rgba(60, 64, 67, 0.15);\n",
              "      fill: #174EA6;\n",
              "    }\n",
              "\n",
              "    .colab-df-buttons div {\n",
              "      margin-bottom: 4px;\n",
              "    }\n",
              "\n",
              "    [theme=dark] .colab-df-convert {\n",
              "      background-color: #3B4455;\n",
              "      fill: #D2E3FC;\n",
              "    }\n",
              "\n",
              "    [theme=dark] .colab-df-convert:hover {\n",
              "      background-color: #434B5C;\n",
              "      box-shadow: 0px 1px 3px 1px rgba(0, 0, 0, 0.15);\n",
              "      filter: drop-shadow(0px 1px 2px rgba(0, 0, 0, 0.3));\n",
              "      fill: #FFFFFF;\n",
              "    }\n",
              "  </style>\n",
              "\n",
              "    <script>\n",
              "      const buttonEl =\n",
              "        document.querySelector('#df-44842672-98ad-45e7-9265-35c2348a85c7 button.colab-df-convert');\n",
              "      buttonEl.style.display =\n",
              "        google.colab.kernel.accessAllowed ? 'block' : 'none';\n",
              "\n",
              "      async function convertToInteractive(key) {\n",
              "        const element = document.querySelector('#df-44842672-98ad-45e7-9265-35c2348a85c7');\n",
              "        const dataTable =\n",
              "          await google.colab.kernel.invokeFunction('convertToInteractive',\n",
              "                                                    [key], {});\n",
              "        if (!dataTable) return;\n",
              "\n",
              "        const docLinkHtml = 'Like what you see? Visit the ' +\n",
              "          '<a target=\"_blank\" href=https://colab.research.google.com/notebooks/data_table.ipynb>data table notebook</a>'\n",
              "          + ' to learn more about interactive tables.';\n",
              "        element.innerHTML = '';\n",
              "        dataTable['output_type'] = 'display_data';\n",
              "        await google.colab.output.renderOutput(dataTable, element);\n",
              "        const docLink = document.createElement('div');\n",
              "        docLink.innerHTML = docLinkHtml;\n",
              "        element.appendChild(docLink);\n",
              "      }\n",
              "    </script>\n",
              "  </div>\n",
              "\n",
              "\n",
              "<div id=\"df-3b324422-0e05-4420-8967-748134177155\">\n",
              "  <button class=\"colab-df-quickchart\" onclick=\"quickchart('df-3b324422-0e05-4420-8967-748134177155')\"\n",
              "            title=\"Suggest charts\"\n",
              "            style=\"display:none;\">\n",
              "\n",
              "<svg xmlns=\"http://www.w3.org/2000/svg\" height=\"24px\"viewBox=\"0 0 24 24\"\n",
              "     width=\"24px\">\n",
              "    <g>\n",
              "        <path d=\"M19 3H5c-1.1 0-2 .9-2 2v14c0 1.1.9 2 2 2h14c1.1 0 2-.9 2-2V5c0-1.1-.9-2-2-2zM9 17H7v-7h2v7zm4 0h-2V7h2v10zm4 0h-2v-4h2v4z\"/>\n",
              "    </g>\n",
              "</svg>\n",
              "  </button>\n",
              "\n",
              "<style>\n",
              "  .colab-df-quickchart {\n",
              "      --bg-color: #E8F0FE;\n",
              "      --fill-color: #1967D2;\n",
              "      --hover-bg-color: #E2EBFA;\n",
              "      --hover-fill-color: #174EA6;\n",
              "      --disabled-fill-color: #AAA;\n",
              "      --disabled-bg-color: #DDD;\n",
              "  }\n",
              "\n",
              "  [theme=dark] .colab-df-quickchart {\n",
              "      --bg-color: #3B4455;\n",
              "      --fill-color: #D2E3FC;\n",
              "      --hover-bg-color: #434B5C;\n",
              "      --hover-fill-color: #FFFFFF;\n",
              "      --disabled-bg-color: #3B4455;\n",
              "      --disabled-fill-color: #666;\n",
              "  }\n",
              "\n",
              "  .colab-df-quickchart {\n",
              "    background-color: var(--bg-color);\n",
              "    border: none;\n",
              "    border-radius: 50%;\n",
              "    cursor: pointer;\n",
              "    display: none;\n",
              "    fill: var(--fill-color);\n",
              "    height: 32px;\n",
              "    padding: 0;\n",
              "    width: 32px;\n",
              "  }\n",
              "\n",
              "  .colab-df-quickchart:hover {\n",
              "    background-color: var(--hover-bg-color);\n",
              "    box-shadow: 0 1px 2px rgba(60, 64, 67, 0.3), 0 1px 3px 1px rgba(60, 64, 67, 0.15);\n",
              "    fill: var(--button-hover-fill-color);\n",
              "  }\n",
              "\n",
              "  .colab-df-quickchart-complete:disabled,\n",
              "  .colab-df-quickchart-complete:disabled:hover {\n",
              "    background-color: var(--disabled-bg-color);\n",
              "    fill: var(--disabled-fill-color);\n",
              "    box-shadow: none;\n",
              "  }\n",
              "\n",
              "  .colab-df-spinner {\n",
              "    border: 2px solid var(--fill-color);\n",
              "    border-color: transparent;\n",
              "    border-bottom-color: var(--fill-color);\n",
              "    animation:\n",
              "      spin 1s steps(1) infinite;\n",
              "  }\n",
              "\n",
              "  @keyframes spin {\n",
              "    0% {\n",
              "      border-color: transparent;\n",
              "      border-bottom-color: var(--fill-color);\n",
              "      border-left-color: var(--fill-color);\n",
              "    }\n",
              "    20% {\n",
              "      border-color: transparent;\n",
              "      border-left-color: var(--fill-color);\n",
              "      border-top-color: var(--fill-color);\n",
              "    }\n",
              "    30% {\n",
              "      border-color: transparent;\n",
              "      border-left-color: var(--fill-color);\n",
              "      border-top-color: var(--fill-color);\n",
              "      border-right-color: var(--fill-color);\n",
              "    }\n",
              "    40% {\n",
              "      border-color: transparent;\n",
              "      border-right-color: var(--fill-color);\n",
              "      border-top-color: var(--fill-color);\n",
              "    }\n",
              "    60% {\n",
              "      border-color: transparent;\n",
              "      border-right-color: var(--fill-color);\n",
              "    }\n",
              "    80% {\n",
              "      border-color: transparent;\n",
              "      border-right-color: var(--fill-color);\n",
              "      border-bottom-color: var(--fill-color);\n",
              "    }\n",
              "    90% {\n",
              "      border-color: transparent;\n",
              "      border-bottom-color: var(--fill-color);\n",
              "    }\n",
              "  }\n",
              "</style>\n",
              "\n",
              "  <script>\n",
              "    async function quickchart(key) {\n",
              "      const quickchartButtonEl =\n",
              "        document.querySelector('#' + key + ' button');\n",
              "      quickchartButtonEl.disabled = true;  // To prevent multiple clicks.\n",
              "      quickchartButtonEl.classList.add('colab-df-spinner');\n",
              "      try {\n",
              "        const charts = await google.colab.kernel.invokeFunction(\n",
              "            'suggestCharts', [key], {});\n",
              "      } catch (error) {\n",
              "        console.error('Error during call to suggestCharts:', error);\n",
              "      }\n",
              "      quickchartButtonEl.classList.remove('colab-df-spinner');\n",
              "      quickchartButtonEl.classList.add('colab-df-quickchart-complete');\n",
              "    }\n",
              "    (() => {\n",
              "      let quickchartButtonEl =\n",
              "        document.querySelector('#df-3b324422-0e05-4420-8967-748134177155 button');\n",
              "      quickchartButtonEl.style.display =\n",
              "        google.colab.kernel.accessAllowed ? 'block' : 'none';\n",
              "    })();\n",
              "  </script>\n",
              "</div>\n",
              "\n",
              "    </div>\n",
              "  </div>\n"
            ],
            "application/vnd.google.colaboratory.intrinsic+json": {
              "type": "dataframe",
              "variable_name": "df"
            }
          },
          "metadata": {},
          "execution_count": 6
        }
      ],
      "source": [
        "#We combine the English and French datasets into a single DataFrame\n",
        "\n",
        "df = pd.concat([english, french], axis = 1)\n",
        "df.head(2)"
      ]
    },
    {
      "cell_type": "code",
      "source": [
        "#We rename the columns of the DataFrame to 'English' and 'French' for better clarity\n",
        "\n",
        "df.columns = ['English', 'French']\n",
        "df.head(2)"
      ],
      "metadata": {
        "colab": {
          "base_uri": "https://localhost:8080/",
          "height": 112
        },
        "id": "9pg2mvnAVED7",
        "outputId": "8e09e573-09ce-4594-8db0-f124add533d7"
      },
      "execution_count": null,
      "outputs": [
        {
          "output_type": "execute_result",
          "data": {
            "text/plain": [
              "                                             English  \\\n",
              "0  the united states is usually chilly during jul...   \n",
              "1  california is usually quiet during march , and...   \n",
              "\n",
              "                                              French  \n",
              "0  les états-unis est généralement froid en juill...  \n",
              "1  california est généralement calme en mars , et...  "
            ],
            "text/html": [
              "\n",
              "  <div id=\"df-6116e894-652a-4a98-bef2-9bc5df6432ca\" class=\"colab-df-container\">\n",
              "    <div>\n",
              "<style scoped>\n",
              "    .dataframe tbody tr th:only-of-type {\n",
              "        vertical-align: middle;\n",
              "    }\n",
              "\n",
              "    .dataframe tbody tr th {\n",
              "        vertical-align: top;\n",
              "    }\n",
              "\n",
              "    .dataframe thead th {\n",
              "        text-align: right;\n",
              "    }\n",
              "</style>\n",
              "<table border=\"1\" class=\"dataframe\">\n",
              "  <thead>\n",
              "    <tr style=\"text-align: right;\">\n",
              "      <th></th>\n",
              "      <th>English</th>\n",
              "      <th>French</th>\n",
              "    </tr>\n",
              "  </thead>\n",
              "  <tbody>\n",
              "    <tr>\n",
              "      <th>0</th>\n",
              "      <td>the united states is usually chilly during jul...</td>\n",
              "      <td>les états-unis est généralement froid en juill...</td>\n",
              "    </tr>\n",
              "    <tr>\n",
              "      <th>1</th>\n",
              "      <td>california is usually quiet during march , and...</td>\n",
              "      <td>california est généralement calme en mars , et...</td>\n",
              "    </tr>\n",
              "  </tbody>\n",
              "</table>\n",
              "</div>\n",
              "    <div class=\"colab-df-buttons\">\n",
              "\n",
              "  <div class=\"colab-df-container\">\n",
              "    <button class=\"colab-df-convert\" onclick=\"convertToInteractive('df-6116e894-652a-4a98-bef2-9bc5df6432ca')\"\n",
              "            title=\"Convert this dataframe to an interactive table.\"\n",
              "            style=\"display:none;\">\n",
              "\n",
              "  <svg xmlns=\"http://www.w3.org/2000/svg\" height=\"24px\" viewBox=\"0 -960 960 960\">\n",
              "    <path d=\"M120-120v-720h720v720H120Zm60-500h600v-160H180v160Zm220 220h160v-160H400v160Zm0 220h160v-160H400v160ZM180-400h160v-160H180v160Zm440 0h160v-160H620v160ZM180-180h160v-160H180v160Zm440 0h160v-160H620v160Z\"/>\n",
              "  </svg>\n",
              "    </button>\n",
              "\n",
              "  <style>\n",
              "    .colab-df-container {\n",
              "      display:flex;\n",
              "      gap: 12px;\n",
              "    }\n",
              "\n",
              "    .colab-df-convert {\n",
              "      background-color: #E8F0FE;\n",
              "      border: none;\n",
              "      border-radius: 50%;\n",
              "      cursor: pointer;\n",
              "      display: none;\n",
              "      fill: #1967D2;\n",
              "      height: 32px;\n",
              "      padding: 0 0 0 0;\n",
              "      width: 32px;\n",
              "    }\n",
              "\n",
              "    .colab-df-convert:hover {\n",
              "      background-color: #E2EBFA;\n",
              "      box-shadow: 0px 1px 2px rgba(60, 64, 67, 0.3), 0px 1px 3px 1px rgba(60, 64, 67, 0.15);\n",
              "      fill: #174EA6;\n",
              "    }\n",
              "\n",
              "    .colab-df-buttons div {\n",
              "      margin-bottom: 4px;\n",
              "    }\n",
              "\n",
              "    [theme=dark] .colab-df-convert {\n",
              "      background-color: #3B4455;\n",
              "      fill: #D2E3FC;\n",
              "    }\n",
              "\n",
              "    [theme=dark] .colab-df-convert:hover {\n",
              "      background-color: #434B5C;\n",
              "      box-shadow: 0px 1px 3px 1px rgba(0, 0, 0, 0.15);\n",
              "      filter: drop-shadow(0px 1px 2px rgba(0, 0, 0, 0.3));\n",
              "      fill: #FFFFFF;\n",
              "    }\n",
              "  </style>\n",
              "\n",
              "    <script>\n",
              "      const buttonEl =\n",
              "        document.querySelector('#df-6116e894-652a-4a98-bef2-9bc5df6432ca button.colab-df-convert');\n",
              "      buttonEl.style.display =\n",
              "        google.colab.kernel.accessAllowed ? 'block' : 'none';\n",
              "\n",
              "      async function convertToInteractive(key) {\n",
              "        const element = document.querySelector('#df-6116e894-652a-4a98-bef2-9bc5df6432ca');\n",
              "        const dataTable =\n",
              "          await google.colab.kernel.invokeFunction('convertToInteractive',\n",
              "                                                    [key], {});\n",
              "        if (!dataTable) return;\n",
              "\n",
              "        const docLinkHtml = 'Like what you see? Visit the ' +\n",
              "          '<a target=\"_blank\" href=https://colab.research.google.com/notebooks/data_table.ipynb>data table notebook</a>'\n",
              "          + ' to learn more about interactive tables.';\n",
              "        element.innerHTML = '';\n",
              "        dataTable['output_type'] = 'display_data';\n",
              "        await google.colab.output.renderOutput(dataTable, element);\n",
              "        const docLink = document.createElement('div');\n",
              "        docLink.innerHTML = docLinkHtml;\n",
              "        element.appendChild(docLink);\n",
              "      }\n",
              "    </script>\n",
              "  </div>\n",
              "\n",
              "\n",
              "<div id=\"df-df75e640-2fe2-4545-876a-78bbfa16b1d5\">\n",
              "  <button class=\"colab-df-quickchart\" onclick=\"quickchart('df-df75e640-2fe2-4545-876a-78bbfa16b1d5')\"\n",
              "            title=\"Suggest charts\"\n",
              "            style=\"display:none;\">\n",
              "\n",
              "<svg xmlns=\"http://www.w3.org/2000/svg\" height=\"24px\"viewBox=\"0 0 24 24\"\n",
              "     width=\"24px\">\n",
              "    <g>\n",
              "        <path d=\"M19 3H5c-1.1 0-2 .9-2 2v14c0 1.1.9 2 2 2h14c1.1 0 2-.9 2-2V5c0-1.1-.9-2-2-2zM9 17H7v-7h2v7zm4 0h-2V7h2v10zm4 0h-2v-4h2v4z\"/>\n",
              "    </g>\n",
              "</svg>\n",
              "  </button>\n",
              "\n",
              "<style>\n",
              "  .colab-df-quickchart {\n",
              "      --bg-color: #E8F0FE;\n",
              "      --fill-color: #1967D2;\n",
              "      --hover-bg-color: #E2EBFA;\n",
              "      --hover-fill-color: #174EA6;\n",
              "      --disabled-fill-color: #AAA;\n",
              "      --disabled-bg-color: #DDD;\n",
              "  }\n",
              "\n",
              "  [theme=dark] .colab-df-quickchart {\n",
              "      --bg-color: #3B4455;\n",
              "      --fill-color: #D2E3FC;\n",
              "      --hover-bg-color: #434B5C;\n",
              "      --hover-fill-color: #FFFFFF;\n",
              "      --disabled-bg-color: #3B4455;\n",
              "      --disabled-fill-color: #666;\n",
              "  }\n",
              "\n",
              "  .colab-df-quickchart {\n",
              "    background-color: var(--bg-color);\n",
              "    border: none;\n",
              "    border-radius: 50%;\n",
              "    cursor: pointer;\n",
              "    display: none;\n",
              "    fill: var(--fill-color);\n",
              "    height: 32px;\n",
              "    padding: 0;\n",
              "    width: 32px;\n",
              "  }\n",
              "\n",
              "  .colab-df-quickchart:hover {\n",
              "    background-color: var(--hover-bg-color);\n",
              "    box-shadow: 0 1px 2px rgba(60, 64, 67, 0.3), 0 1px 3px 1px rgba(60, 64, 67, 0.15);\n",
              "    fill: var(--button-hover-fill-color);\n",
              "  }\n",
              "\n",
              "  .colab-df-quickchart-complete:disabled,\n",
              "  .colab-df-quickchart-complete:disabled:hover {\n",
              "    background-color: var(--disabled-bg-color);\n",
              "    fill: var(--disabled-fill-color);\n",
              "    box-shadow: none;\n",
              "  }\n",
              "\n",
              "  .colab-df-spinner {\n",
              "    border: 2px solid var(--fill-color);\n",
              "    border-color: transparent;\n",
              "    border-bottom-color: var(--fill-color);\n",
              "    animation:\n",
              "      spin 1s steps(1) infinite;\n",
              "  }\n",
              "\n",
              "  @keyframes spin {\n",
              "    0% {\n",
              "      border-color: transparent;\n",
              "      border-bottom-color: var(--fill-color);\n",
              "      border-left-color: var(--fill-color);\n",
              "    }\n",
              "    20% {\n",
              "      border-color: transparent;\n",
              "      border-left-color: var(--fill-color);\n",
              "      border-top-color: var(--fill-color);\n",
              "    }\n",
              "    30% {\n",
              "      border-color: transparent;\n",
              "      border-left-color: var(--fill-color);\n",
              "      border-top-color: var(--fill-color);\n",
              "      border-right-color: var(--fill-color);\n",
              "    }\n",
              "    40% {\n",
              "      border-color: transparent;\n",
              "      border-right-color: var(--fill-color);\n",
              "      border-top-color: var(--fill-color);\n",
              "    }\n",
              "    60% {\n",
              "      border-color: transparent;\n",
              "      border-right-color: var(--fill-color);\n",
              "    }\n",
              "    80% {\n",
              "      border-color: transparent;\n",
              "      border-right-color: var(--fill-color);\n",
              "      border-bottom-color: var(--fill-color);\n",
              "    }\n",
              "    90% {\n",
              "      border-color: transparent;\n",
              "      border-bottom-color: var(--fill-color);\n",
              "    }\n",
              "  }\n",
              "</style>\n",
              "\n",
              "  <script>\n",
              "    async function quickchart(key) {\n",
              "      const quickchartButtonEl =\n",
              "        document.querySelector('#' + key + ' button');\n",
              "      quickchartButtonEl.disabled = true;  // To prevent multiple clicks.\n",
              "      quickchartButtonEl.classList.add('colab-df-spinner');\n",
              "      try {\n",
              "        const charts = await google.colab.kernel.invokeFunction(\n",
              "            'suggestCharts', [key], {});\n",
              "      } catch (error) {\n",
              "        console.error('Error during call to suggestCharts:', error);\n",
              "      }\n",
              "      quickchartButtonEl.classList.remove('colab-df-spinner');\n",
              "      quickchartButtonEl.classList.add('colab-df-quickchart-complete');\n",
              "    }\n",
              "    (() => {\n",
              "      let quickchartButtonEl =\n",
              "        document.querySelector('#df-df75e640-2fe2-4545-876a-78bbfa16b1d5 button');\n",
              "      quickchartButtonEl.style.display =\n",
              "        google.colab.kernel.accessAllowed ? 'block' : 'none';\n",
              "    })();\n",
              "  </script>\n",
              "</div>\n",
              "\n",
              "    </div>\n",
              "  </div>\n"
            ],
            "application/vnd.google.colaboratory.intrinsic+json": {
              "type": "dataframe",
              "variable_name": "df"
            }
          },
          "metadata": {},
          "execution_count": 7
        }
      ]
    },
    {
      "cell_type": "code",
      "source": [
        "#We randomly select an index and retrieve the corresponding English and French sentences using that index.\n",
        "\n",
        "random_index = random.randint(0, len(df) - 1)\n",
        "\n",
        "english_sentence = df['English'].iloc[random_index]\n",
        "french_sentence = df['French'].iloc[random_index]\n",
        "\n",
        "print(\"English:\", english_sentence)\n",
        "print(\"French:\", french_sentence)"
      ],
      "metadata": {
        "colab": {
          "base_uri": "https://localhost:8080/"
        },
        "id": "hz9Hmg_MMwr2",
        "outputId": "a75ed6da-690d-45e6-fb0f-25f9751a1a36"
      },
      "execution_count": null,
      "outputs": [
        {
          "output_type": "stream",
          "name": "stdout",
          "text": [
            "English: paris is never busy during autumn , but it is usually dry in february .\n",
            "French: paris est jamais occupé à l'automne , mais il est généralement sec en février .\n"
          ]
        }
      ]
    },
    {
      "cell_type": "markdown",
      "source": [
        "**This is a randomly selected sentence pair, where the English sentence is matched with its French translation, which helps train the translation model.**"
      ],
      "metadata": {
        "id": "tyts61AbMktC"
      }
    },
    {
      "cell_type": "code",
      "source": [
        "def remove_punctuation(text):\n",
        "    return text.translate(str.maketrans('', '', string.punctuation))\n",
        "\n",
        "df['English'] = df['English'].apply(remove_punctuation)\n",
        "df['French'] = df['French'].apply(remove_punctuation)"
      ],
      "metadata": {
        "id": "iCwCkeKNXAFe"
      },
      "execution_count": null,
      "outputs": []
    },
    {
      "cell_type": "markdown",
      "source": [
        "**This step removes punctuation from both the English and French sentences to ensure the model focuses on the core words rather than punctuation marks.**"
      ],
      "metadata": {
        "id": "QOMSHB6QNHFy"
      }
    },
    {
      "cell_type": "code",
      "execution_count": null,
      "metadata": {
        "id": "T80tiWxe84G7",
        "colab": {
          "base_uri": "https://localhost:8080/"
        },
        "outputId": "e2aa1f44-3501-4942-9f9a-85b10f0dbe3d"
      },
      "outputs": [
        {
          "output_type": "stream",
          "name": "stdout",
          "text": [
            "English (No punctuation): paris is never busy during autumn  but it is usually dry in february \n",
            "French (No punctuation): paris est jamais occupé à lautomne  mais il est généralement sec en février \n"
          ]
        }
      ],
      "source": [
        "print(\"English (No punctuation):\", df['English'].iloc[random_index])\n",
        "print(\"French (No punctuation):\", df['French'].iloc[random_index])"
      ]
    },
    {
      "cell_type": "markdown",
      "source": [
        "**We can clearly see that the punctuations were removed**"
      ],
      "metadata": {
        "id": "eMXlqe03M7CA"
      }
    },
    {
      "cell_type": "code",
      "execution_count": null,
      "metadata": {
        "id": "Dakeo81s352S"
      },
      "outputs": [],
      "source": [
        "def word_count(text):\n",
        "  return len(text.split())\n",
        "\n",
        "df['ENG Length'] = df['English'].apply(word_count)"
      ]
    },
    {
      "cell_type": "markdown",
      "source": [
        "**We create a function word_count that splits the input text into words and returns the number of words. It helps in analyzing sentence length by counting the words in the text.**\n",
        "\n",
        "**The result is stored in a new column, 'ENG Length', which gives the word count for each English sentence in the DataFrame.**"
      ],
      "metadata": {
        "id": "33CXOLsGNar_"
      }
    },
    {
      "cell_type": "code",
      "execution_count": null,
      "metadata": {
        "id": "49keasjaPaaK"
      },
      "outputs": [],
      "source": [
        "df['FR Length'] = df['French'].apply(word_count)"
      ]
    },
    {
      "cell_type": "markdown",
      "source": [
        "**We do the same thing with the French column to see the number of words in each French Sentence**"
      ],
      "metadata": {
        "id": "8ob8yeQzN1Y_"
      }
    },
    {
      "cell_type": "code",
      "execution_count": null,
      "metadata": {
        "id": "_q_UIMJ09L24",
        "colab": {
          "base_uri": "https://localhost:8080/",
          "height": 487
        },
        "outputId": "61231df7-acda-47ab-9c4a-efe35b5495cc"
      },
      "outputs": [
        {
          "output_type": "display_data",
          "data": {
            "text/plain": [
              "<Figure size 1200x500 with 1 Axes>"
            ],
            "image/png": "[encoded data removed]"
          },
          "metadata": {}
        }
      ],
      "source": [
        "unique_word_counts = sorted(df['ENG Length'].unique())\n",
        "extended_bins = unique_word_counts + [unique_word_counts[-1] + 1]\n",
        "\n",
        "plt.figure(figsize=(12, 5))\n",
        "counts, bins, bars = plt.hist(df['ENG Length'], bins=extended_bins, alpha=0.5, label='English', color='blue', edgecolor='black')\n",
        "\n",
        "for count, x in zip(counts, bins[:-1]):\n",
        "    plt.text(x + (bins[1] - bins[0]) / 2, count, str(int(count)), ha='center', va='bottom', fontsize=10)\n",
        "\n",
        "plt.xticks(unique_word_counts)\n",
        "plt.title('Word Count Distribution for English Sentences')\n",
        "plt.xlabel('Word Count')\n",
        "plt.ylabel('Frequency')\n",
        "plt.legend()\n",
        "plt.show()"
      ]
    },
    {
      "cell_type": "markdown",
      "source": [
        "**The histogram displays the word count distribution for English sentences, with the majority of sentences having 13 or 14 words. The peak frequencies occur at 13 (34,912 occurrences) and 14 words (29,962 occurrences), suggesting that most of the sentences in the data are of mid-length. Shorter sentences (3–7 words) and longer ones (15+ words) are less common.**"
      ],
      "metadata": {
        "id": "Y_CAEPRUOSrW"
      }
    },
    {
      "cell_type": "code",
      "execution_count": null,
      "metadata": {
        "id": "TSn4L7kW9R7g",
        "colab": {
          "base_uri": "https://localhost:8080/",
          "height": 487
        },
        "outputId": "68349763-5115-4c73-e52d-397708be28e3"
      },
      "outputs": [
        {
          "output_type": "display_data",
          "data": {
            "text/plain": [
              "<Figure size 1000x500 with 1 Axes>"
            ],
            "image/png": "[encoded data removed]"
          },
          "metadata": {}
        }
      ],
      "source": [
        "unique_word_counts = sorted(df['FR Length'].unique())\n",
        "extended_bins = unique_word_counts + [unique_word_counts[-1] + 1]\n",
        "\n",
        "plt.figure(figsize=(10, 5))\n",
        "counts, bins, bars = plt.hist(df['FR Length'], bins=extended_bins, alpha=0.5, label='French', color='pink', edgecolor='black')\n",
        "\n",
        "for count, x in zip(counts, bins[:-1]):\n",
        "    plt.text(x + (bins[1] - bins[0]) / 2, count, str(int(count)), ha='center', va='bottom', fontsize=10)\n",
        "\n",
        "plt.xticks(unique_word_counts)\n",
        "\n",
        "plt.title('Word Count Distribution for French Sentences')\n",
        "plt.xlabel('Word Count')\n",
        "plt.ylabel('Frequency')\n",
        "plt.legend()\n",
        "plt.show()"
      ]
    },
    {
      "cell_type": "markdown",
      "source": [
        "**The histogram for French sentences shows that the most frequent word count is 14 words (33,559 occurrences), followed by 13 words (21,841 occurrences). Similar to the English distribution, mid-length sentences (13–15 words) dominate the dataset, while very short (2–5 words) or very long sentences (18+ words) are rare.**"
      ],
      "metadata": {
        "id": "EMLSMzSBO8bX"
      }
    },
    {
      "cell_type": "code",
      "execution_count": null,
      "metadata": {
        "id": "BpnBB04U_lHd",
        "colab": {
          "base_uri": "https://localhost:8080/"
        },
        "outputId": "d675a05e-ed8b-442d-9372-310c1bae67b8"
      },
      "outputs": [
        {
          "output_type": "stream",
          "name": "stdout",
          "text": [
            "The maximum length of an English sentence is: 15\n",
            "The maximum length of a French sentence is: 21\n"
          ]
        }
      ],
      "source": [
        "max_english_length = df['ENG Length'].max()\n",
        "max_french_length = df['FR Length'].max()\n",
        "\n",
        "print(f\"The maximum length of an English sentence is: {max_english_length}\")\n",
        "print(f\"The maximum length of a French sentence is: {max_french_length}\")"
      ]
    },
    {
      "cell_type": "markdown",
      "source": [
        "**The maximum sentence lengths indicate that the longest English sentence has 15 words, while the longest French sentence has 21 words**.\n",
        "\n",
        "**This information is going to be useful later when preparing the data for model training, especially for padding.**"
      ],
      "metadata": {
        "id": "yMvTxh-APF5I"
      }
    },
    {
      "cell_type": "code",
      "execution_count": null,
      "metadata": {
        "id": "aiXlciqFuQzW",
        "colab": {
          "base_uri": "https://localhost:8080/"
        },
        "outputId": "56ce0c26-c79f-47d8-d2b5-b5bbf4aea387"
      },
      "outputs": [
        {
          "output_type": "stream",
          "name": "stderr",
          "text": [
            "[nltk_data] Downloading package punkt_tab to /root/nltk_data...\n",
            "[nltk_data]   Unzipping tokenizers/punkt_tab.zip.\n"
          ]
        }
      ],
      "source": [
        "nltk.download('punkt_tab')\n",
        "\n",
        "df['English_Tokens'] = df['English'].apply(word_tokenize)\n",
        "df['French_Tokens'] = df['French'].apply(word_tokenize)"
      ]
    },
    {
      "cell_type": "markdown",
      "source": [
        "**We apply the function word_tokenize to both the English and French columns, creating new columns 'English_Tokens' and 'French_Tokens' that store the tokenized words (tokens) for each sentence. Tokenization is a crucial step for text processing, as it prepares the sentences for further analysis or model training.**"
      ],
      "metadata": {
        "id": "UqOkwkIbPeeC"
      }
    },
    {
      "cell_type": "code",
      "execution_count": null,
      "metadata": {
        "id": "1WahkdzKvIlO",
        "colab": {
          "base_uri": "https://localhost:8080/"
        },
        "outputId": "8a366087-f4e3-4611-eb22-233c192f0530"
      },
      "outputs": [
        {
          "output_type": "stream",
          "name": "stdout",
          "text": [
            "Number of unique words in English: 199\n",
            "Number of unique words in French: 345\n"
          ]
        }
      ],
      "source": [
        "unique_english_words = set(word for tokens in df['English_Tokens'] for word in tokens)\n",
        "unique_french_words = set(word for tokens in df['French_Tokens'] for word in tokens)\n",
        "\n",
        "print(f\"Number of unique words in English: {len(unique_english_words)}\")\n",
        "print(f\"Number of unique words in French: {len(unique_french_words)}\")"
      ]
    },
    {
      "cell_type": "markdown",
      "source": [
        "**In the previous code cell, we are findind the number of unique words in both datasets, where English has 199 unique words and French has 345**"
      ],
      "metadata": {
        "id": "zp4zfefoQL2t"
      }
    },
    {
      "cell_type": "code",
      "execution_count": null,
      "metadata": {
        "id": "oNdO9EZrxvmN"
      },
      "outputs": [],
      "source": [
        "#We have already defined these 2 variables\n",
        "#max_engish_length\n",
        "#max_french_length\n",
        "\n",
        "english_tokenizer = Tokenizer()\n",
        "english_tokenizer.fit_on_texts(df['English_Tokens'])\n",
        "\n",
        "french_tokenizer = Tokenizer()\n",
        "french_tokenizer.fit_on_texts(df['French_Tokens'])\n",
        "\n",
        "english_tokens = english_tokenizer.texts_to_sequences(df['English_Tokens'])\n",
        "french_tokens = french_tokenizer.texts_to_sequences(df['French_Tokens'])\n",
        "\n",
        "english_padded = pad_sequences(english_tokens, maxlen=max_english_length, padding='post')\n",
        "french_padded = pad_sequences(french_tokens, maxlen=max_french_length, padding='post')"
      ]
    },
    {
      "cell_type": "markdown",
      "source": [
        "**We create tokenizers for both English and French to convert words into integers, which the model can process.**\n",
        "\n",
        "**We use the fit_on_texts method that builds a vocabulary from the tokenized sentences, assigning a unique integer to each word.**\n",
        "\n",
        "**We also use the texts_to_sequences method to convert the sentences into sequences of integers based on the built vocabulary.**\n",
        "\n",
        "**We ensure all sequences have the same length by padding them to the maximum sentence length (set to max_english_length and max_french_length), adding zeros at the end where necessary using the pad_sequences method.**\n",
        "\n",
        "**These steps prepares the tokenized sentences for model training, ensuring consistency in input size.**"
      ],
      "metadata": {
        "id": "N1BRKVojQqbu"
      }
    },
    {
      "cell_type": "code",
      "source": [
        "def define_model(input_vocab, output_vocab, input_timesteps, output_timesteps):\n",
        "    model = Sequential()\n",
        "    model.add(Embedding(input_vocab, 256, mask_zero=True))\n",
        "    model.add(LSTM(256))\n",
        "    model.add(RepeatVector(output_timesteps))\n",
        "    model.add(LSTM(256, return_sequences=True))\n",
        "    model.add(TimeDistributed(Dense(output_vocab, activation='softmax')))\n",
        "    return model"
      ],
      "metadata": {
        "id": "jwpBIay3oNNa"
      },
      "execution_count": null,
      "outputs": []
    },
    {
      "cell_type": "markdown",
      "source": [
        "**This function defines a sequence-to-sequence model for machine translation. It starts with an Embedding layer to represent words as dense vectors, followed by an LSTM layer to learn the sequence's context. The RepeatVector ensures the context is repeated for the output sequence length, and a second LSTM processes the output. The TimeDistributed layer applies a Dense layer with a softmax activation to generate the final word predictions for each time step. This model is designed to handle translation tasks, mapping input sequences to output sequences.**"
      ],
      "metadata": {
        "id": "BZc8niUERg_h"
      }
    },
    {
      "cell_type": "code",
      "execution_count": null,
      "metadata": {
        "id": "lWw4nBNIFp9D",
        "colab": {
          "base_uri": "https://localhost:8080/"
        },
        "outputId": "acb52964-4027-4455-a171-473367df1c69"
      },
      "outputs": [
        {
          "output_type": "stream",
          "name": "stdout",
          "text": [
            "Epoch 1/10\n",
            "\u001b[1m1724/1724\u001b[0m \u001b[32m━━━━━━━━━━━━━━━━━━━━\u001b[0m\u001b[37m\u001b[0m \u001b[1m31s\u001b[0m 13ms/step - accuracy: 0.5775 - loss: 1.8456 - val_accuracy: 0.7983 - val_loss: 0.6770\n",
            "Epoch 2/10\n",
            "\u001b[1m1724/1724\u001b[0m \u001b[32m━━━━━━━━━━━━━━━━━━━━\u001b[0m\u001b[37m\u001b[0m \u001b[1m22s\u001b[0m 13ms/step - accuracy: 0.8332 - loss: 0.5590 - val_accuracy: 0.9153 - val_loss: 0.2939\n",
            "Epoch 3/10\n",
            "\u001b[1m1724/1724\u001b[0m \u001b[32m━━━━━━━━━━━━━━━━━━━━\u001b[0m\u001b[37m\u001b[0m \u001b[1m40s\u001b[0m 12ms/step - accuracy: 0.9294 - loss: 0.2462 - val_accuracy: 0.9481 - val_loss: 0.1773\n",
            "Epoch 4/10\n",
            "\u001b[1m1724/1724\u001b[0m \u001b[32m━━━━━━━━━━━━━━━━━━━━\u001b[0m\u001b[37m\u001b[0m \u001b[1m41s\u001b[0m 12ms/step - accuracy: 0.9550 - loss: 0.1516 - val_accuracy: 0.9569 - val_loss: 0.1405\n",
            "Epoch 5/10\n",
            "\u001b[1m1724/1724\u001b[0m \u001b[32m━━━━━━━━━━━━━━━━━━━━\u001b[0m\u001b[37m\u001b[0m \u001b[1m21s\u001b[0m 12ms/step - accuracy: 0.9659 - loss: 0.1106 - val_accuracy: 0.9686 - val_loss: 0.1044\n",
            "Epoch 6/10\n",
            "\u001b[1m1724/1724\u001b[0m \u001b[32m━━━━━━━━━━━━━━━━━━━━\u001b[0m\u001b[37m\u001b[0m \u001b[1m21s\u001b[0m 12ms/step - accuracy: 0.9717 - loss: 0.0919 - val_accuracy: 0.9744 - val_loss: 0.0847\n",
            "Epoch 7/10\n",
            "\u001b[1m1724/1724\u001b[0m \u001b[32m━━━━━━━━━━━━━━━━━━━━\u001b[0m\u001b[37m\u001b[0m \u001b[1m42s\u001b[0m 12ms/step - accuracy: 0.9779 - loss: 0.0721 - val_accuracy: 0.9733 - val_loss: 0.0881\n",
            "Epoch 8/10\n",
            "\u001b[1m1724/1724\u001b[0m \u001b[32m━━━━━━━━━━━━━━━━━━━━\u001b[0m\u001b[37m\u001b[0m \u001b[1m41s\u001b[0m 12ms/step - accuracy: 0.9815 - loss: 0.0598 - val_accuracy: 0.9766 - val_loss: 0.0767\n",
            "Epoch 9/10\n",
            "\u001b[1m1724/1724\u001b[0m \u001b[32m━━━━━━━━━━━━━━━━━━━━\u001b[0m\u001b[37m\u001b[0m \u001b[1m40s\u001b[0m 12ms/step - accuracy: 0.9838 - loss: 0.0521 - val_accuracy: 0.9798 - val_loss: 0.0665\n",
            "Epoch 10/10\n",
            "\u001b[1m1724/1724\u001b[0m \u001b[32m━━━━━━━━━━━━━━━━━━━━\u001b[0m\u001b[37m\u001b[0m \u001b[1m42s\u001b[0m 12ms/step - accuracy: 0.9860 - loss: 0.0453 - val_accuracy: 0.9805 - val_loss: 0.0667\n"
          ]
        },
        {
          "output_type": "execute_result",
          "data": {
            "text/plain": [
              "<keras.src.callbacks.history.History at 0x7e2ebcd135d0>"
            ]
          },
          "metadata": {},
          "execution_count": 20
        }
      ],
      "source": [
        "eng_vocab_size = len(english_tokenizer.word_index) + 1\n",
        "fr_vocab_size = len(french_tokenizer.word_index) + 1\n",
        "\n",
        "model = define_model(eng_vocab_size, fr_vocab_size, max_english_length, max_french_length)\n",
        "\n",
        "model.compile(optimizer=Adam(learning_rate=0.001),\n",
        "              loss='sparse_categorical_crossentropy',\n",
        "              metrics=['accuracy'])\n",
        "\n",
        "model.fit(english_padded,\n",
        "          french_padded,\n",
        "          batch_size=64,\n",
        "          epochs=10,\n",
        "          validation_split=0.2)"
      ]
    },
    {
      "cell_type": "markdown",
      "source": [
        "**The model shows strong improvement over the 10 epochs:**\n",
        "\n",
        "**Training accuracy increases consistently, starting at 57.75% in the first epoch and reaching 98.60% by the 10th epoch.**\n",
        "\n",
        "**Training loss decreases from 1.8456 to 0.0453, indicating the model is learning effectively.**\n",
        "\n",
        "**Validation accuracy also improves, rising from 79.83% in epoch 1 to 98.05% in epoch 10, showing that the model generalizes well to unseen data.**\n",
        "\n",
        "**Validation loss decreases from 0.6770 to 0.0667, further supporting that the model is learning and not overfitting.**\n",
        "\n",
        "**Overall, the model is converging well, with high accuracy on both the training and validation sets.**"
      ],
      "metadata": {
        "id": "e9xa93vHSMOU"
      }
    },
    {
      "cell_type": "code",
      "source": [
        "#This function translates an input English sentence into French by tokenizing, predicting the translation using the model,\n",
        "#and converting the output tokens back into a French sentence.\n",
        "\n",
        "def english_to_french(input_sentence, english_tokenizer, french_tokenizer, model, max_english_length, max_french_length):\n",
        "    input_tokens = english_tokenizer.texts_to_sequences([input_sentence])\n",
        "    input_padded = pad_sequences(input_tokens, maxlen=max_english_length, padding='post')\n",
        "\n",
        "    predicted_output = model.predict(input_padded)\n",
        "\n",
        "    output_sequence = np.argmax(predicted_output, axis=-1)\n",
        "    output_sentence = []\n",
        "\n",
        "    for token in output_sequence[0]:\n",
        "        if token == 0:\n",
        "            continue\n",
        "        word = french_tokenizer.index_word.get(token, '')\n",
        "        output_sentence.append(word)\n",
        "\n",
        "    french_sentence = ' '.join(output_sentence)\n",
        "    return french_sentence"
      ],
      "metadata": {
        "id": "fUU_RdCxYpM6"
      },
      "execution_count": null,
      "outputs": []
    },
    {
      "cell_type": "code",
      "execution_count": null,
      "metadata": {
        "id": "fDmNqnZIQMko",
        "colab": {
          "base_uri": "https://localhost:8080/"
        },
        "outputId": "98a1d974-252b-4d74-b1f7-0a9930202bbb"
      },
      "outputs": [
        {
          "output_type": "stream",
          "name": "stdout",
          "text": [
            "\u001b[1m1/1\u001b[0m \u001b[32m━━━━━━━━━━━━━━━━━━━━\u001b[0m\u001b[37m\u001b[0m \u001b[1m0s\u001b[0m 407ms/step\n",
            "elle conduit le nouveau camion\n"
          ]
        }
      ],
      "source": [
        "input = \"she is driving the truck\"\n",
        "\n",
        "french_translation = english_to_french(input, english_tokenizer, french_tokenizer, model, max_english_length, max_french_length)\n",
        "print(french_translation)"
      ]
    },
    {
      "cell_type": "markdown",
      "source": [
        "**The model translated the English sentence (\"She is driving the truck\") into French as (\"Elle conduit le nouveau camion\"), which means (\"She is driving the new truck\"). The translation is mostly correct, though it slightly altered \"the truck\" to \"the new truck.\" This could be due to the model's training or vocabulary.**"
      ],
      "metadata": {
        "id": "6xIPCouoSpgb"
      }
    },
    {
      "cell_type": "markdown",
      "source": [
        "#Lets Try to improve our model"
      ],
      "metadata": {
        "id": "8G0MwlSzS-hT"
      }
    },
    {
      "cell_type": "code",
      "execution_count": null,
      "metadata": {
        "id": "Ch28BLsbGnCn"
      },
      "outputs": [],
      "source": [
        "#The addition of the **Bidirectional LSTM** layer allows the model to learn from both past and future context in the input sequence,\n",
        "#improving its ability to capture dependencies in translation tasks.\n",
        "\n",
        "def define_model2(input_vocab, output_vocab, input_timesteps, output_timesteps):\n",
        "\n",
        "    model = Sequential()\n",
        "    model.add(Embedding(input_vocab, 256, mask_zero=True)) #Stays the same\n",
        "    model.add(Bidirectional(LSTM(256)))\n",
        "    model.add(RepeatVector(output_timesteps)) #Stays the same\n",
        "    model.add(Bidirectional(LSTM(256, return_sequences=True)))\n",
        "    model.add(TimeDistributed(Dense(output_vocab, activation='softmax')))\n",
        "\n",
        "    return model\n",
        "\n",
        "model2 = define_model2(eng_vocab_size, fr_vocab_size, max_english_length, max_french_length)"
      ]
    },
    {
      "cell_type": "code",
      "execution_count": null,
      "metadata": {
        "id": "iK1QvVmaTWI2",
        "colab": {
          "base_uri": "https://localhost:8080/"
        },
        "outputId": "0775bc3a-dddb-49a5-87aa-def3c7c9a746"
      },
      "outputs": [
        {
          "output_type": "stream",
          "name": "stdout",
          "text": [
            "Epoch 1/10\n",
            "\u001b[1m1724/1724\u001b[0m \u001b[32m━━━━━━━━━━━━━━━━━━━━\u001b[0m\u001b[37m\u001b[0m \u001b[1m43s\u001b[0m 21ms/step - accuracy: 0.6533 - loss: 1.4647 - val_accuracy: 0.9075 - val_loss: 0.3097\n",
            "Epoch 2/10\n",
            "\u001b[1m1724/1724\u001b[0m \u001b[32m━━━━━━━━━━━━━━━━━━━━\u001b[0m\u001b[37m\u001b[0m \u001b[1m40s\u001b[0m 21ms/step - accuracy: 0.9271 - loss: 0.2463 - val_accuracy: 0.9527 - val_loss: 0.1520\n",
            "Epoch 3/10\n",
            "\u001b[1m1724/1724\u001b[0m \u001b[32m━━━━━━━━━━━━━━━━━━━━\u001b[0m\u001b[37m\u001b[0m \u001b[1m41s\u001b[0m 21ms/step - accuracy: 0.9576 - loss: 0.1380 - val_accuracy: 0.9662 - val_loss: 0.1082\n",
            "Epoch 4/10\n",
            "\u001b[1m1724/1724\u001b[0m \u001b[32m━━━━━━━━━━━━━━━━━━━━\u001b[0m\u001b[37m\u001b[0m \u001b[1m41s\u001b[0m 21ms/step - accuracy: 0.9710 - loss: 0.0920 - val_accuracy: 0.9668 - val_loss: 0.1085\n",
            "Epoch 5/10\n",
            "\u001b[1m1724/1724\u001b[0m \u001b[32m━━━━━━━━━━━━━━━━━━━━\u001b[0m\u001b[37m\u001b[0m \u001b[1m41s\u001b[0m 21ms/step - accuracy: 0.9747 - loss: 0.0812 - val_accuracy: 0.9738 - val_loss: 0.0936\n",
            "Epoch 6/10\n",
            "\u001b[1m1724/1724\u001b[0m \u001b[32m━━━━━━━━━━━━━━━━━━━━\u001b[0m\u001b[37m\u001b[0m \u001b[1m36s\u001b[0m 21ms/step - accuracy: 0.9817 - loss: 0.0594 - val_accuracy: 0.9777 - val_loss: 0.0728\n",
            "Epoch 7/10\n",
            "\u001b[1m1724/1724\u001b[0m \u001b[32m━━━━━━━━━━━━━━━━━━━━\u001b[0m\u001b[37m\u001b[0m \u001b[1m36s\u001b[0m 21ms/step - accuracy: 0.9841 - loss: 0.0497 - val_accuracy: 0.9776 - val_loss: 0.0746\n",
            "Epoch 8/10\n",
            "\u001b[1m1724/1724\u001b[0m \u001b[32m━━━━━━━━━━━━━━━━━━━━\u001b[0m\u001b[37m\u001b[0m \u001b[1m41s\u001b[0m 21ms/step - accuracy: 0.9868 - loss: 0.0420 - val_accuracy: 0.9794 - val_loss: 0.0688\n",
            "Epoch 9/10\n",
            "\u001b[1m1724/1724\u001b[0m \u001b[32m━━━━━━━━━━━━━━━━━━━━\u001b[0m\u001b[37m\u001b[0m \u001b[1m41s\u001b[0m 21ms/step - accuracy: 0.9877 - loss: 0.0391 - val_accuracy: 0.9806 - val_loss: 0.0678\n",
            "Epoch 10/10\n",
            "\u001b[1m1724/1724\u001b[0m \u001b[32m━━━━━━━━━━━━━━━━━━━━\u001b[0m\u001b[37m\u001b[0m \u001b[1m41s\u001b[0m 21ms/step - accuracy: 0.9907 - loss: 0.0298 - val_accuracy: 0.9821 - val_loss: 0.0627\n"
          ]
        },
        {
          "output_type": "execute_result",
          "data": {
            "text/plain": [
              "<keras.src.callbacks.history.History at 0x7e2e3670e1d0>"
            ]
          },
          "metadata": {},
          "execution_count": 24
        }
      ],
      "source": [
        "model2.compile(optimizer=Adam(learning_rate=0.001),\n",
        "               loss='sparse_categorical_crossentropy',\n",
        "               metrics=['accuracy'])\n",
        "\n",
        "model2.fit(english_padded,\n",
        "           french_padded,\n",
        "           batch_size=64,\n",
        "           epochs=10,\n",
        "           validation_split=0.2)\n"
      ]
    },
    {
      "cell_type": "markdown",
      "source": [
        "**The new model shows significant improvement in both training and validation performance:**\n",
        "\n",
        "**Training accuracy starts at 65.33% in the first epoch and reaches 99.07% by the 10th epoch.**\n",
        "\n",
        "**Training loss decreases from 1.4647 to 0.0298, indicating effective learning.**\n",
        "\n",
        "**Validation accuracy increases from 90.75% in epoch 1 to 98.21% in epoch 10, demonstrating strong generalization.**\n",
        "\n",
        "**Validation loss decreases from 0.3097 to 0.0627, further showing that the model is improving and not overfitting.**\n",
        "\n",
        "**Overall, the Bidirectional LSTM has helped enhance the model's performance, as evidenced by faster convergence and higher accuracy.**"
      ],
      "metadata": {
        "id": "Vfkb-Sy8TLbV"
      }
    },
    {
      "cell_type": "code",
      "execution_count": null,
      "metadata": {
        "id": "Gulu8OiXTbae"
      },
      "outputs": [],
      "source": [
        "def predict_translation(input_sentence, model, english_tokenizer, french_tokenizer, max_english_length, max_french_length):\n",
        "    input_sequence = english_tokenizer.texts_to_sequences([input_sentence])\n",
        "\n",
        "    input_padded = pad_sequences(input_sequence, maxlen=max_english_length, padding='post')\n",
        "\n",
        "    predicted_sequence = model.predict(input_padded)\n",
        "\n",
        "    predicted_words = []\n",
        "    for i in range(predicted_sequence.shape[1]):\n",
        "        predicted_word_index = np.argmax(predicted_sequence[0, i, :])\n",
        "        if predicted_word_index != 0:\n",
        "            predicted_word = french_tokenizer.index_word.get(predicted_word_index)\n",
        "            predicted_words.append(predicted_word)\n",
        "\n",
        "    predicted_sentence = ' '.join(predicted_words)\n",
        "\n",
        "    return predicted_sentence"
      ]
    },
    {
      "cell_type": "code",
      "source": [
        "input = \"i am going to paris\"\n",
        "\n",
        "predicted_french_sentence = predict_translation(input, model2, english_tokenizer, french_tokenizer, max_english_length, max_french_length)\n",
        "\n",
        "print(predicted_french_sentence)"
      ],
      "metadata": {
        "id": "8CO0pO6-UAeE",
        "colab": {
          "base_uri": "https://localhost:8080/"
        },
        "outputId": "dd5050e7-2e0f-450b-ee7d-9b6412111549"
      },
      "execution_count": null,
      "outputs": [
        {
          "output_type": "stream",
          "name": "stdout",
          "text": [
            "\u001b[1m1/1\u001b[0m \u001b[32m━━━━━━━━━━━━━━━━━━━━\u001b[0m\u001b[37m\u001b[0m \u001b[1m0s\u001b[0m 28ms/step\n",
            "vais je à paris\n"
          ]
        }
      ]
    },
    {
      "cell_type": "markdown",
      "source": [
        "**The model translated the English sentence (\"I am going to Paris\") into French as (\"Vais-je à Paris\"), which means (\"Am I going to Paris\"). The model generated a slightly different meaning by interpreting the sentence as a question, which could be due to the way it was trained or the phrasing it encountered in the dataset.**"
      ],
      "metadata": {
        "id": "_GxhuHSmT3jo"
      }
    },
    {
      "cell_type": "markdown",
      "source": [
        "#Conclusion\n",
        "\n",
        "**The model performed well, achieving high accuracy on both training and validation data, with improvements in both loss and accuracy throughout the epochs. However, the model's translation of certain sentences, such as \"I am going to Paris,\" reflected slight inconsistencies, demonstrating room for improvement in capturing more nuanced translations.**\n",
        "\n",
        "**Ways to Improve the Model:**\n",
        "\n",
        "1-**A simple adjustment is to increase the number of LSTM units from 256 to 512, allowing the model more capacity to capture complex patterns. Similarly, increasing the embedding dimension from 256 to 512 enables the model to represent words more richly, improving its understanding of word relationships and enhancing performance.**\n",
        "\n",
        "2-**Hyperparameter Tuning like optimizing the learning rate, batch size, and model dimensions through hyperparameter tuning can help tailor the architecture to the data, leading to better results.**\n",
        "\n",
        "3-**Using pre-trained embeddings like GloVe provides the model with rich semantic representations from large corpora, boosting its ability to understand word relationships and enhancing overall performance.**\n",
        "\n",
        "4-**Adding more LSTM layers can help the model capture more complex patterns, though this increases the computational cost and needs careful consideration to balance performance and efficiency.**"
      ],
      "metadata": {
        "id": "L06-ZfH7UflS"
      }
    }
  ],
  "metadata": {
    "colab": {
      "provenance": [],
      "gpuType": "T4"
    },
    "kernelspec": {
      "display_name": "Python 3",
      "name": "python3"
    },
    "language_info": {
      "name": "python"
    },
    "accelerator": "GPU"
  },
  "nbformat": 4,
  "nbformat_minor": 0
}